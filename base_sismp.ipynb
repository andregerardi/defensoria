{
 "cells": [
  {
   "cell_type": "markdown",
   "metadata": {},
   "source": [
    "### Modelo SIS MP\n"
   ]
  },
  {
   "cell_type": "markdown",
   "metadata": {},
   "source": [
    "#### Bibliotecas"
   ]
  },
  {
   "cell_type": "code",
   "execution_count": 1,
   "metadata": {},
   "outputs": [],
   "source": [
    "import math\n",
    "import json\n",
    "import re\n",
    "import time\n",
    "import pandas as pd\n",
    "from selenium import webdriver\n",
    "from selenium.webdriver.common.by import By\n",
    "from selenium.webdriver.chrome.service import Service\n",
    "from selenium.webdriver.chrome.options import Options\n",
    "from selenium.webdriver.support.ui import WebDriverWait\n",
    "from selenium.webdriver.support import expected_conditions as EC\n",
    "from webdriver_manager.chrome import ChromeDriverManager\n",
    "from tqdm import tqdm\n",
    "import concurrent.futures\n",
    "from concurrent.futures import ThreadPoolExecutor, as_completed\n"
   ]
  },
  {
   "cell_type": "markdown",
   "metadata": {},
   "source": [
    "#### Busca a paginação"
   ]
  },
  {
   "cell_type": "code",
   "execution_count": 2,
   "metadata": {},
   "outputs": [
    {
     "name": "stdout",
     "output_type": "stream",
     "text": [
      "Texto encontrado: 38067\n"
     ]
    }
   ],
   "source": [
    "# Configuração do WebDriver\n",
    "options = webdriver.FirefoxOptions()\n",
    "options.add_argument('--headless')  # Executa em modo headless (sem interface gráfica)\n",
    "driver = webdriver.Firefox(options=options)\n",
    "\n",
    "try:\n",
    "    # URL\n",
    "    url = \"https://sis.mpsp.mp.br/consultaprocessual/inqueritos-policiais/\"\n",
    "    driver.get(url)\n",
    "\n",
    "    wait = WebDriverWait(driver, 10)\n",
    "    paginacao = wait.until(EC.presence_of_element_located((By.CLASS_NAME, \"v-data-table-footer__info\")))\n",
    "\n",
    "    # extrai o texto \n",
    "    texto_paginacao = paginacao.text\n",
    "    # converte texto para número\n",
    "    # dividi o valor por 100 para obter o número de páginas\n",
    "    # a paginação no link é de 100 em 100\n",
    "    texto_paginacao = int(texto_paginacao.split(\"(\")[1].split(\" \")[0])/100 \n",
    "    # arredondar para cima\n",
    "    texto_paginacao = math.ceil(texto_paginacao)\n",
    "    # print\n",
    "    print(\"Texto encontrado:\", texto_paginacao)\n",
    "\n",
    "except Exception as e:\n",
    "    print(f\"Erro ao buscar texto: {e}\")\n",
    "finally:\n",
    "    # fechar\n",
    "    driver.quit()"
   ]
  },
  {
   "cell_type": "markdown",
   "metadata": {},
   "source": [
    "#### Raspa os dados da consulta processual\n",
    "\n",
    "[Pagina MP](https://sis.mpsp.mp.br/consultaprocessual/)\n",
    "\n",
    "filtro: inquéritos policiais\n",
    "\n",
    "Área: criminal"
   ]
  },
  {
   "cell_type": "markdown",
   "metadata": {},
   "source": [
    "#### Função busca termo \"tráfico de drogas e condutas afins\" na base"
   ]
  },
  {
   "cell_type": "code",
   "execution_count": 3,
   "metadata": {},
   "outputs": [],
   "source": [
    "def check_trafico_de_drogas(df):\n",
    "    # lista\n",
    "    resultados = []\n",
    "    \n",
    "    # iterador\n",
    "    for x in df['assuntos']:\n",
    "        # busca o termo 'tráfico de drogas e condutas afins'\n",
    "        if re.search(r'tráfico de drogas e condutas afins|crimes de tráfico ilícito e uso indevido de drogas', x, re.IGNORECASE):\n",
    "            resultados.append(True)\n",
    "        else:\n",
    "            resultados.append(False)\n",
    "    \n",
    "    # Retorna resultados\n",
    "    return resultados"
   ]
  },
  {
   "cell_type": "markdown",
   "metadata": {},
   "source": [
    "#### Função para buscar termo \"posse de drogas para consumo\""
   ]
  },
  {
   "cell_type": "code",
   "execution_count": 4,
   "metadata": {},
   "outputs": [],
   "source": [
    "def check_consumo_de_drogas(df):\n",
    "    # lista\n",
    "    consumo = []\n",
    "    \n",
    "    # iterador\n",
    "    for x in df['assuntos']:\n",
    "        # busca o termo 'tráfico de drogas e condutas afins'\n",
    "        if re.search(r'posse de drogas para consumo pessoal|oferecimento de drogas para consumo conjunto|auxílio ao uso de drogas', x, re.IGNORECASE):\n",
    "            consumo.append(True)\n",
    "        else:\n",
    "            consumo.append(False)\n",
    "    \n",
    "    # Retorna resultados\n",
    "    return consumo"
   ]
  },
  {
   "cell_type": "markdown",
   "metadata": {},
   "source": [
    "#### Raspador"
   ]
  },
  {
   "cell_type": "code",
   "execution_count": null,
   "metadata": {},
   "outputs": [
    {
     "name": "stderr",
     "output_type": "stream",
     "text": [
      "Processando páginas:  60%|█████▉    | 22832/38067 [2:45:34<2:51:39,  1.48it/s]"
     ]
    },
    {
     "name": "stdout",
     "output_type": "stream",
     "text": [
      "Erro ao processar a página [] Could not reach host. Are you offline?\n"
     ]
    },
    {
     "name": "stderr",
     "output_type": "stream",
     "text": [
      "Processando páginas:  60%|██████    | 22848/38067 [2:45:41<1:34:26,  2.69it/s]"
     ]
    },
    {
     "name": "stdout",
     "output_type": "stream",
     "text": [
      "Erro ao processar a página [] Could not reach host. Are you offline?\n"
     ]
    },
    {
     "name": "stderr",
     "output_type": "stream",
     "text": [
      "Processando páginas:  60%|██████    | 22882/38067 [2:45:59<1:37:15,  2.60it/s]"
     ]
    },
    {
     "name": "stdout",
     "output_type": "stream",
     "text": [
      "Erro ao processar a página [] Could not reach host. Are you offline?\n"
     ]
    },
    {
     "name": "stderr",
     "output_type": "stream",
     "text": [
      "Processando páginas:  60%|██████    | 22923/38067 [2:46:22<2:02:53,  2.05it/s]"
     ]
    },
    {
     "name": "stdout",
     "output_type": "stream",
     "text": [
      "Erro ao processar a página [] Could not reach host. Are you offline?\n"
     ]
    },
    {
     "name": "stderr",
     "output_type": "stream",
     "text": [
      "Processando páginas:  60%|██████    | 22946/38067 [2:46:35<2:41:26,  1.56it/s]"
     ]
    },
    {
     "name": "stdout",
     "output_type": "stream",
     "text": [
      "Erro ao processar a página [] Could not reach host. Are you offline?\n"
     ]
    },
    {
     "name": "stderr",
     "output_type": "stream",
     "text": [
      "Processando páginas:  60%|██████    | 22962/38067 [2:46:44<3:10:29,  1.32it/s]"
     ]
    },
    {
     "name": "stdout",
     "output_type": "stream",
     "text": [
      "Erro ao processar a página [] Could not reach host. Are you offline?\n"
     ]
    },
    {
     "name": "stderr",
     "output_type": "stream",
     "text": [
      "Processando páginas:  60%|██████    | 22992/38067 [2:47:01<3:47:18,  1.11it/s]"
     ]
    },
    {
     "name": "stdout",
     "output_type": "stream",
     "text": [
      "Erro ao processar a página [] Could not reach host. Are you offline?\n"
     ]
    },
    {
     "name": "stderr",
     "output_type": "stream",
     "text": [
      "Processando páginas:  60%|██████    | 23011/38067 [2:47:10<1:43:45,  2.42it/s]"
     ]
    },
    {
     "name": "stdout",
     "output_type": "stream",
     "text": [
      "Erro ao processar a página [] Could not reach host. Are you offline?\n"
     ]
    },
    {
     "name": "stderr",
     "output_type": "stream",
     "text": [
      "Processando páginas:  61%|██████    | 23041/38067 [2:47:27<4:19:21,  1.04s/it]"
     ]
    },
    {
     "name": "stdout",
     "output_type": "stream",
     "text": [
      "Erro ao processar a página [] Could not reach host. Are you offline?\n",
      "Erro ao processar a página [] Could not reach host. Are you offline?\n"
     ]
    },
    {
     "name": "stderr",
     "output_type": "stream",
     "text": [
      "Processando páginas:  61%|██████    | 23093/38067 [2:47:54<3:31:07,  1.18it/s]"
     ]
    },
    {
     "name": "stdout",
     "output_type": "stream",
     "text": [
      "Erro ao processar a página [] Could not reach host. Are you offline?\n"
     ]
    },
    {
     "name": "stderr",
     "output_type": "stream",
     "text": [
      "Processando páginas:  61%|██████    | 23098/38067 [2:47:56<2:10:01,  1.92it/s]"
     ]
    },
    {
     "name": "stdout",
     "output_type": "stream",
     "text": [
      "Erro ao processar item da página 23116: 'NoneType' object is not subscriptable\n"
     ]
    },
    {
     "name": "stderr",
     "output_type": "stream",
     "text": [
      "Processando páginas:  61%|██████    | 23107/38067 [2:48:00<2:04:03,  2.01it/s]"
     ]
    },
    {
     "name": "stdout",
     "output_type": "stream",
     "text": [
      "Erro ao processar a página [] Could not reach host. Are you offline?\n"
     ]
    },
    {
     "name": "stderr",
     "output_type": "stream",
     "text": [
      "Processando páginas:  61%|██████    | 23118/38067 [2:48:06<3:51:23,  1.08it/s]"
     ]
    },
    {
     "name": "stdout",
     "output_type": "stream",
     "text": [
      "Erro ao processar a página [] Could not reach host. Are you offline?\n"
     ]
    },
    {
     "name": "stderr",
     "output_type": "stream",
     "text": [
      "Processando páginas:  61%|██████    | 23141/38067 [2:48:18<3:53:56,  1.06it/s]"
     ]
    },
    {
     "name": "stdout",
     "output_type": "stream",
     "text": [
      "Erro ao processar a página [] Could not reach host. Are you offline?\n"
     ]
    },
    {
     "name": "stderr",
     "output_type": "stream",
     "text": [
      "Processando páginas:  61%|██████    | 23165/38067 [2:48:28<2:18:36,  1.79it/s]"
     ]
    },
    {
     "name": "stdout",
     "output_type": "stream",
     "text": [
      "Erro ao processar a página [] Could not reach host. Are you offline?\n",
      "Erro ao processar a página [] Could not reach host. Are you offline?\n"
     ]
    },
    {
     "name": "stderr",
     "output_type": "stream",
     "text": [
      "Processando páginas:  61%|██████    | 23187/38067 [2:48:37<2:07:54,  1.94it/s]"
     ]
    },
    {
     "name": "stdout",
     "output_type": "stream",
     "text": [
      "Erro ao processar a página [] Could not reach host. Are you offline?\n"
     ]
    },
    {
     "name": "stderr",
     "output_type": "stream",
     "text": [
      "Processando páginas:  61%|██████    | 23207/38067 [2:48:50<2:57:49,  1.39it/s]"
     ]
    },
    {
     "name": "stdout",
     "output_type": "stream",
     "text": [
      "Erro ao processar a página [] Could not reach host. Are you offline?\n"
     ]
    },
    {
     "name": "stderr",
     "output_type": "stream",
     "text": [
      "Processando páginas:  61%|██████    | 23241/38067 [2:49:09<1:31:51,  2.69it/s]"
     ]
    },
    {
     "name": "stdout",
     "output_type": "stream",
     "text": [
      "Erro ao processar a página [] Could not reach host. Are you offline?\n"
     ]
    },
    {
     "name": "stderr",
     "output_type": "stream",
     "text": [
      "Processando páginas:  61%|██████    | 23280/38067 [2:49:34<3:52:40,  1.06it/s]"
     ]
    },
    {
     "name": "stdout",
     "output_type": "stream",
     "text": [
      "Erro ao processar a página [] Could not reach host. Are you offline?\n"
     ]
    },
    {
     "name": "stderr",
     "output_type": "stream",
     "text": [
      "Processando páginas:  61%|██████    | 23282/38067 [2:49:35<2:43:54,  1.50it/s]"
     ]
    },
    {
     "name": "stdout",
     "output_type": "stream",
     "text": [
      "Erro ao processar a página [] Could not reach host. Are you offline?\n",
      "Erro ao processar item da página 23315: 'NoneType' object is not subscriptable\n"
     ]
    },
    {
     "name": "stderr",
     "output_type": "stream",
     "text": [
      "Processando páginas:  61%|██████▏   | 23328/38067 [2:49:57<1:16:02,  3.23it/s]"
     ]
    },
    {
     "name": "stdout",
     "output_type": "stream",
     "text": [
      "Erro ao processar a página [] Could not reach host. Are you offline?\n"
     ]
    },
    {
     "name": "stderr",
     "output_type": "stream",
     "text": [
      "Processando páginas:  61%|██████▏   | 23396/38067 [2:50:34<3:29:03,  1.17it/s]"
     ]
    },
    {
     "name": "stdout",
     "output_type": "stream",
     "text": [
      "Erro ao processar a página [] Could not reach host. Are you offline?\n"
     ]
    },
    {
     "name": "stderr",
     "output_type": "stream",
     "text": [
      "Processando páginas:  62%|██████▏   | 23429/38067 [2:50:55<2:24:31,  1.69it/s]"
     ]
    },
    {
     "name": "stdout",
     "output_type": "stream",
     "text": [
      "Erro ao processar a página [] Could not reach host. Are you offline?\n"
     ]
    },
    {
     "name": "stderr",
     "output_type": "stream",
     "text": [
      "Processando páginas:  62%|██████▏   | 23433/38067 [2:50:58<2:51:17,  1.42it/s]"
     ]
    },
    {
     "name": "stdout",
     "output_type": "stream",
     "text": [
      "Erro ao processar a página [] Could not reach host. Are you offline?\n"
     ]
    },
    {
     "name": "stderr",
     "output_type": "stream",
     "text": [
      "Processando páginas:  62%|██████▏   | 23486/38067 [2:51:26<1:19:04,  3.07it/s]"
     ]
    },
    {
     "name": "stdout",
     "output_type": "stream",
     "text": [
      "Erro ao processar a página [] Could not reach host. Are you offline?\n"
     ]
    },
    {
     "name": "stderr",
     "output_type": "stream",
     "text": [
      "Processando páginas:  62%|██████▏   | 23515/38067 [2:51:42<1:59:03,  2.04it/s]"
     ]
    },
    {
     "name": "stdout",
     "output_type": "stream",
     "text": [
      "Erro ao processar a página [] Could not reach host. Are you offline?\n"
     ]
    },
    {
     "name": "stderr",
     "output_type": "stream",
     "text": [
      "Processando páginas:  62%|██████▏   | 23523/38067 [2:51:49<3:34:12,  1.13it/s]"
     ]
    },
    {
     "name": "stdout",
     "output_type": "stream",
     "text": [
      "Erro ao processar a página [] Could not reach host. Are you offline?\n"
     ]
    },
    {
     "name": "stderr",
     "output_type": "stream",
     "text": [
      "Processando páginas:  62%|██████▏   | 23545/38067 [2:52:01<1:36:58,  2.50it/s]"
     ]
    },
    {
     "name": "stdout",
     "output_type": "stream",
     "text": [
      "Erro ao processar a página [] Could not reach host. Are you offline?\n"
     ]
    },
    {
     "name": "stderr",
     "output_type": "stream",
     "text": [
      "Processando páginas:  62%|██████▏   | 23555/38067 [2:52:05<1:34:15,  2.57it/s]"
     ]
    },
    {
     "name": "stdout",
     "output_type": "stream",
     "text": [
      "Erro ao processar item da página 23530: 'NoneType' object is not subscriptable\n"
     ]
    },
    {
     "name": "stderr",
     "output_type": "stream",
     "text": [
      "Processando páginas:  62%|██████▏   | 23632/38067 [2:52:55<1:45:37,  2.28it/s]\n"
     ]
    }
   ],
   "source": [
    "def scrape_page(pagina):\n",
    "\n",
    "    # webdriver  \n",
    "    driver = webdriver.Chrome(service=Service(ChromeDriverManager().install()))\n",
    "\n",
    "    try:\n",
    "        # URL\n",
    "        url = f\"https://wapiext.mpsp.mp.br/consultaprocessualapispa/consultas/procedimentos-por-classe/?idClasse=705&CurrentPage={pagina}&PageSize=100\"\n",
    "        \n",
    "        # Acessa a página\n",
    "        driver.get(url)\n",
    "        \n",
    "        # Aguarda um tempo para garantir que a página foi carregada\n",
    "        time.sleep(0.2)\n",
    "        \n",
    "        # Código fonte da página\n",
    "        page_content = driver.page_source\n",
    "\n",
    "        # Extrair o JSON usando regex\n",
    "        json_data_match = re.search(r'(\\{.*\\})', page_content, re.IGNORECASE)\n",
    "        if json_data_match:\n",
    "            json_data = json_data_match.group(1)\n",
    "            dados_json = json.loads(json_data)\n",
    "        else:\n",
    "            raise ValueError(\"JSON data not found in the page source\")\n",
    "\n",
    "        # Dados extraídos\n",
    "        dados = []\n",
    "\n",
    "        for item in dados_json['procedimentos']:\n",
    "            try:\n",
    "                page = pagina\n",
    "\n",
    "                try:\n",
    "                    idProcedimento = item.get(\"idProcedimento\", None)\n",
    "                except KeyError:\n",
    "                    idProcedimento = None\n",
    "                \n",
    "                try:\n",
    "                    numeroMP = item.get(\"numeroMP\", \"\").lower()\n",
    "                except KeyError:\n",
    "                    numeroMP = None\n",
    "                \n",
    "                try:\n",
    "                    anoProcedimento = numeroMP.split(\"/\")[1] if numeroMP else None\n",
    "                except IndexError:\n",
    "                    anoProcedimento = None\n",
    "                \n",
    "                try:\n",
    "                    classe = item.get(\"classe\", \"\").lower()\n",
    "                except KeyError:\n",
    "                    classe = None\n",
    "                \n",
    "                try:\n",
    "                    unidadeAdministrativa = item.get(\"unidadeAdministrativa\", \"\").lower()\n",
    "                except KeyError:\n",
    "                    unidadeAdministrativa = None\n",
    "                \n",
    "                try:\n",
    "                    municipio = unidadeAdministrativa.replace('promotoria de justiça de ', '') if unidadeAdministrativa else None\n",
    "                except AttributeError:\n",
    "                    municipio = None\n",
    "                \n",
    "                try:\n",
    "                    area = item.get(\"area\", \"\").lower()\n",
    "                except KeyError:\n",
    "                    area = None\n",
    "                \n",
    "                try:\n",
    "                    assuntos = \", \".join([assunto.strip().lower() for assunto in item.get(\"assuntos\", [{}])[0].get(\"assunto\", [])])\n",
    "                except (KeyError, IndexError):\n",
    "                    assuntos = None\n",
    "                \n",
    "                try:\n",
    "                    id_link = f\"https://wapiext.mpsp.mp.br/consultaprocessualapispa/procedimentos/{idProcedimento}\"\n",
    "                except TypeError:\n",
    "                    id_link = None\n",
    "                \n",
    "                # Adiciona os dados na lista\n",
    "                dados.append([page, idProcedimento, numeroMP, anoProcedimento, classe, unidadeAdministrativa, municipio, area, assuntos, id_link])\n",
    "\n",
    "            except Exception as e:\n",
    "                print(f\"Erro ao processar item da página {pagina}: {e}\")\n",
    "                continue  # Continua com o próximo item, caso ocorra um erro em um item específico\n",
    "\n",
    "        return dados, pagina\n",
    "    except Exception as e:\n",
    "        print(f\"Tentativa falhou ao buscar a página {pagina}. Erro: {e}\")\n",
    "\n",
    "    finally:\n",
    "        driver.quit()  # Fecha o driver\n",
    "\n",
    "# Função principal\n",
    "def main():\n",
    "    # variáveis\n",
    "    dados = []\n",
    "    url_erro = []\n",
    "\n",
    "    # ThreadPoolExecutor\n",
    "    with concurrent.futures.ThreadPoolExecutor(max_workers=50) as executor:\n",
    "        future_to_page = {executor.submit(scrape_page, pagina): pagina for pagina in range(1, texto_paginacao + 1)}\n",
    "        for future in tqdm(concurrent.futures.as_completed(future_to_page), total=texto_paginacao, desc=\"Processando páginas\"):\n",
    "            pagina = []\n",
    "            try:\n",
    "                dados_extraidos, pagina = future.result()\n",
    "                dados.extend(dados_extraidos)\n",
    "            except Exception as e:\n",
    "                print(f\"Erro ao processar a página {pagina} {e}\")\n",
    "                url_erro.append(future_to_page[future])\n",
    "\n",
    "        # DataFrame\n",
    "        final = pd.DataFrame(dados, columns=[\"page\",\"idProcedimento\", \"numeroMP\", \"anoProcedimento\", \"classe\", \"unidadeAdministrativa\", \"municipio\", \"area\", \"assuntos\", \"id_link\"])\n",
    "\n",
    "        # coluna 'trafico_validacao'\n",
    "        final['trafico_validacao'] = check_trafico_de_drogas(final)\n",
    "\n",
    "        # coluna 'consumo_validacao'\n",
    "        final['consumo_validacao'] = check_consumo_de_drogas(final)\n",
    "\n",
    "        # persiste base principal em disco\n",
    "        final.to_csv(\"inqueritos_policiais_criminais_mpsp.csv\", encoding=\"cp1252\", index=False)\n",
    "\n",
    "        # persiste erros em disco\n",
    "        pd.DataFrame(url_erro, columns=[\"pagina\"]).to_csv(\"inqueritos_policiais_mpsp_url_erro.csv\", encoding=\"cp1252\", index=False)\n",
    "\n",
    "    # erro de URL\n",
    "    if url_erro:\n",
    "        print(f\"URLs com erro: {url_erro}\")\n",
    "\n",
    "if __name__ == \"__main__\":\n",
    "    main() "
   ]
  },
  {
   "cell_type": "markdown",
   "metadata": {},
   "source": [
    "#### Elabora a base que será usada para busca de metados no TJSP"
   ]
  },
  {
   "cell_type": "code",
   "execution_count": null,
   "metadata": {},
   "outputs": [],
   "source": [
    "# importa a base de dados raspada\n",
    "dataset = pd.read_csv(\"inqueritos_policiais_criminais_mpsp.csv\", encoding=\"cp1252\")\n",
    "\n",
    "# cria a variavel ano\n",
    "year = []\n",
    "for ano in dataset['numeroMP']:\n",
    "    year.append(ano.split(\"/\")[1])\n",
    "\n",
    "dataset['anoProcedimento'] = year\n",
    "\n",
    "# cria dataset sobre tráfico de drogas para raspagem\n",
    "dataset_trafico = dataset[dataset['trafico_validacao'] == True]\n",
    "\n",
    "dataset_consumo = dataset[dataset['consumo_validacao'] == True]\n",
    "\n",
    "dataset_apenas_trafico = dataset[(dataset['consumo_validacao'] == False)&(dataset['trafico_validacao'] == True)]\n"
   ]
  },
  {
   "cell_type": "markdown",
   "metadata": {},
   "source": [
    "#### Gráfico do número de processos com inquéritos policiais sobre trafico de drogas"
   ]
  },
  {
   "cell_type": "code",
   "execution_count": null,
   "metadata": {},
   "outputs": [],
   "source": [
    "import plotly.express as px\n",
    "\n",
    "# Contar os valores de 'trafico_validacao' e resetar o índice\n",
    "trafico_counts = dataset['trafico_validacao'].value_counts().reset_index()\n",
    "trafico_counts.columns = ['trafico_validacao', 'count']\n",
    "trafico_counts['trafico_validacao'] = trafico_counts['trafico_validacao'].replace({True: 'Sim', False: 'Não'})\n",
    "\n",
    "\n",
    "# Criar o gráfico de barras com Plotly\n",
    "fig = px.bar(trafico_counts, \n",
    "             x='trafico_validacao', y='count', \n",
    "             labels={'count': 'Número de casos<br>em milhões', 'trafico_validacao': 'Processos que contém o termo<br>\"tráfico de drogas\"?'},\n",
    "             title='Inquéritos Policiais por tráfico e uso de drogas,<br><b>no sistema do Ministério Público do Estado de São Paulo</br></b>',\n",
    "             text=trafico_counts['count'].apply(lambda x: f'{x:,.0f}'))\n",
    "\n",
    "# Atualizar layout do gráfico\n",
    "fig.update_traces(marker_color='cornflowerblue', \n",
    "                  textposition='inside')\n",
    "fig.update_layout(width=600, \n",
    "                  height=400, \n",
    "                  xaxis_showgrid=False, \n",
    "                  yaxis_showgrid=False, \n",
    "                  template='plotly_white')\n",
    "\n",
    "# Exibir o gráfico\n",
    "fig.show()"
   ]
  },
  {
   "cell_type": "code",
   "execution_count": null,
   "metadata": {},
   "outputs": [],
   "source": [
    "dataset['trafico_validacao'].value_counts().mul(100)"
   ]
  },
  {
   "cell_type": "code",
   "execution_count": null,
   "metadata": {},
   "outputs": [],
   "source": [
    "dataset.shape"
   ]
  },
  {
   "cell_type": "markdown",
   "metadata": {},
   "source": [
    "#### Gráfico da distribuição por ano dos inquéritos sobre tráfico e consumo de drogas que entraram no MP-SP"
   ]
  },
  {
   "cell_type": "code",
   "execution_count": null,
   "metadata": {},
   "outputs": [],
   "source": [
    "import plotly.express as px\n",
    "\n",
    "# Contar os valores de 'anoProcedimento' e resetar o índice\n",
    "ano_counts = dataset_apenas_trafico['anoProcedimento'].value_counts().sort_index().reset_index()\n",
    "ano_counts.columns = ['anoProcedimento', 'count']\n",
    "ano_counts = ano_counts[1:]\n",
    "\n",
    "# Criar o gráfico de barras com Plotly\n",
    "fig = px.bar(ano_counts, \n",
    "             x='anoProcedimento', y='count', \n",
    "             labels={'count': 'Número de Inquéritos<br>em milhares', 'anoProcedimento': 'Ano de entrada<br>no sistema do MP-SP'},\n",
    "             title='<b>Evolução do Inquéritos Policiais registrados por tráfico de drogas,<br>no sistema do Ministério Público do Estado de São Paulo</br></b>',\n",
    "             text=ano_counts['count'].apply(lambda x: f'{x:.0f}'))\n",
    "\n",
    "# Atualizar layout do gráfico\n",
    "fig.update_traces(marker_color='cornflowerblue', \n",
    "                  textposition='inside')\n",
    "fig.update_layout(width=1000, \n",
    "                  height=500, \n",
    "                  xaxis_showgrid=False, \n",
    "                  yaxis_showgrid=False, \n",
    "                  template='plotly_white')\n",
    "\n",
    "# Exibir o gráfico\n",
    "fig.show()"
   ]
  },
  {
   "cell_type": "code",
   "execution_count": null,
   "metadata": {},
   "outputs": [],
   "source": [
    "# variação percentual entre 2017 e 2023\n",
    "# [data_atual] - ['data_anterior'] / ['data_anterior'] * 100.\n",
    "(176261-361568)/361568*100"
   ]
  },
  {
   "cell_type": "code",
   "execution_count": null,
   "metadata": {},
   "outputs": [],
   "source": [
    "uso_counts = dataset_trafico['consumo_validacao'].value_counts().sort_index().reset_index()\n",
    "uso_counts.columns = ['consumo_validacao', 'count']\n",
    "uso_counts['consumo_validacao'] = uso_counts['consumo_validacao'].replace({True: 'Consumo', False: 'Tráfico'})\n",
    "\n",
    "# Criar o gráfico de barras com Plotly\n",
    "fig = px.bar(uso_counts, \n",
    "             x='consumo_validacao', y='count', \n",
    "             labels={'count': 'Número de Inquéritos<br>em milhares', 'consumo_validacao': 'Tipo de Inquérito'},\n",
    "             title='<b>Inquéritos Policiais por tráfico e uso de drogas,<br>no sistema do Ministério Público do Estado de São Paulo</br></b>',\n",
    "             text=uso_counts['count'].apply(lambda x: f'{x:,.0f}'))\n",
    "\n",
    "# Atualizar layout do gráfico\n",
    "fig.update_traces(marker_color='cornflowerblue', \n",
    "                  textposition='outside')\n",
    "\n",
    "fig.update_layout(width=600, \n",
    "                  height=500, \n",
    "                  xaxis_showgrid=False, \n",
    "                  yaxis_showgrid=False, \n",
    "                  template='plotly_white')\n",
    "\n",
    "# Exibir o gráfico\n",
    "fig.show()"
   ]
  },
  {
   "cell_type": "code",
   "execution_count": null,
   "metadata": {},
   "outputs": [],
   "source": [
    "9644/298842*100"
   ]
  },
  {
   "cell_type": "code",
   "execution_count": null,
   "metadata": {},
   "outputs": [],
   "source": [
    "import plotly.express as px\n",
    "\n",
    "# Contar os valores de 'consumo_validacao' por 'anoProcedimento'\n",
    "consumo_ano_counts = dataset_trafico.groupby(['anoProcedimento', 'consumo_validacao']).size().reset_index(name='count')\n",
    "\n",
    "# Substituir os valores booleanos por strings mais legíveis\n",
    "consumo_ano_counts['consumo_validacao'] = consumo_ano_counts['consumo_validacao'].replace({True: 'Consumo', False: 'Tráfico'})\n",
    "consumo_ano_counts = consumo_ano_counts[2:]\n",
    "\n",
    "# Criar o gráfico de barras empilhadas com Plotly\n",
    "fig = px.bar(consumo_ano_counts, \n",
    "             x='anoProcedimento', y='count', color='consumo_validacao', \n",
    "             labels={'count': 'Número de Inquéritos<br>em milhares', 'anoProcedimento': 'Ano de Procedimento', 'consumo_validacao': 'Tipo de Inquérito'},\n",
    "             title='<b>Distribuição de Inquéritos Policiais por ano e tipo de infração<b>',\n",
    "             text=consumo_ano_counts['count'].apply(lambda x: f'{x:.0f}'),\n",
    "             color_discrete_map={'Tráfico': 'cornflowerblue', 'Consumo': 'RGB(113,50,141)'})\n",
    "\n",
    "# Atualizar layout do gráfico\n",
    "fig.update_layout(barmode='stack', \n",
    "                  xaxis={'categoryorder':'category ascending'},\n",
    "                  template='plotly_white')\n",
    "# formata o gráfico\n",
    "fig.update_layout(xaxis_showgrid=False, \n",
    "                  yaxis_showgrid=False, \n",
    "                  template='plotly_white')\n",
    "\n",
    "# Exibir o gráfico\n",
    "fig.show()\n"
   ]
  },
  {
   "cell_type": "code",
   "execution_count": null,
   "metadata": {},
   "outputs": [],
   "source": [
    "consumo_ano_counts1 = consumo_ano_counts[consumo_ano_counts['consumo_validacao'] == 'Consumo']\n",
    "# Criar o gráfico de barras empilhadas com Plotly\n",
    "fig = px.bar(consumo_ano_counts1, \n",
    "             x='anoProcedimento', y='count', color='consumo_validacao', \n",
    "             labels={'count': 'Número de Inquéritos', 'anoProcedimento': 'Ano de Procedimento', 'consumo_validacao': 'Tipo de Inquérito'},\n",
    "             title='<b>Distribuição de Inquéritos Policiais por ano e tipo de infração<b>',\n",
    "             text=consumo_ano_counts1['count'].apply(lambda x: f'{x:.0f}'),\n",
    "             color_discrete_map={'Consumo': 'cornflowerblue'})\n",
    "\n",
    "# Atualizar layout do gráfico\n",
    "fig.update_layout(barmode='stack', \n",
    "                  xaxis={'categoryorder':'category ascending'},\n",
    "                  template='plotly_white')\n",
    "# formata o gráfico\n",
    "fig.update_layout(xaxis_showgrid=False, \n",
    "                  yaxis_showgrid=False, \n",
    "                  template='plotly_white')\n",
    "\n",
    "# Exibir o gráfico\n",
    "fig.show()"
   ]
  },
  {
   "cell_type": "code",
   "execution_count": null,
   "metadata": {},
   "outputs": [],
   "source": [
    "dataset_trafico.head(2)"
   ]
  },
  {
   "cell_type": "markdown",
   "metadata": {},
   "source": [
    "#### Usa o número do processo para pegar o PIN de cada ação da base"
   ]
  },
  {
   "cell_type": "markdown",
   "metadata": {},
   "source": [
    "#### Raspa os metadados de cada processo de tráfico"
   ]
  },
  {
   "cell_type": "code",
   "execution_count": null,
   "metadata": {},
   "outputs": [],
   "source": [
    "link = [f\"https://wapiext.mpsp.mp.br/consultaprocessualapispa/procedimentos/{x}\" for x in dataset_apenas_trafico['idProcedimento']]"
   ]
  },
  {
   "cell_type": "code",
   "execution_count": null,
   "metadata": {},
   "outputs": [],
   "source": [
    "def lista_para_string(lista, chave='assunto'):\n",
    "    \"\"\"Transforma listas de dicionários em strings\"\"\"\n",
    "    return \",\".join([\"\".join(item.get(chave, [])).title() for item in lista])\n",
    "\n",
    "def extrair_dados_processo(link):\n",
    "    # Configuração do WebDriver\n",
    "    driver = webdriver.Chrome(service=Service(ChromeDriverManager().install()))\n",
    "    \n",
    "    try:        \n",
    "        # Acessa a URL\n",
    "        driver.get(link)\n",
    "        \n",
    "        # Aguardar um pouco para garantir que a página carregue completamente\n",
    "        time.sleep(0.5)\n",
    "\n",
    "        # Pega o código fonte da página\n",
    "        page_content = driver.page_source\n",
    "        \n",
    "        # Extrai o JSON do page_source usando regex\n",
    "        json_data_match = re.search(r'(\\{.*\\})', page_content)\n",
    "        if json_data_match:\n",
    "            json_data = json_data_match.group(1)\n",
    "            dados_processo = json.loads(json_data)\n",
    "        else:\n",
    "            raise ValueError(\"JSON data not found in the page source\")\n",
    "        \n",
    "        data = {}\n",
    "\n",
    "        # Usando try-except para garantir que não falhe caso algum campo não exista\n",
    "\n",
    "        try:\n",
    "            data['situacao'] = dados_processo['situacao']\n",
    "        except KeyError:\n",
    "            data['situacao'] = None\n",
    "        \n",
    "        try:\n",
    "            data['numeroMp'] = dados_processo['numeroMp']\n",
    "        except KeyError:\n",
    "            data['numeroMp'] = None\n",
    "        \n",
    "        try:\n",
    "            data['numerosTJ'] = lista_para_string(dados_processo['numerosTJ'], 'numero')\n",
    "        except KeyError:\n",
    "            data['numerosTJ'] = None\n",
    "        except Exception as e:\n",
    "            #print(f\"Erro ao processar numerosTJ: {e}\")\n",
    "            data['numerosTJ'] = None\n",
    "        \n",
    "        try:\n",
    "            data['classe'] = dados_processo['classe']\n",
    "        except KeyError:\n",
    "            data['classe'] = None\n",
    "        \n",
    "        try:\n",
    "            data['unidadeAdministrativa'] = dados_processo['unidadeAdministrativa']\n",
    "        except KeyError:\n",
    "            data['unidadeAdministrativa'] = None\n",
    "        \n",
    "        try:\n",
    "            data['cargo'] = dados_processo['cargo']\n",
    "        except KeyError:\n",
    "            data['cargo'] = None\n",
    "        \n",
    "        try:\n",
    "            data['dataInstauracao'] = dados_processo['dataInstauracao']\n",
    "        except KeyError:\n",
    "            data['dataInstauracao'] = None\n",
    "        \n",
    "        try:\n",
    "            data['numeroInqueritoDelegacia'] = dados_processo['numeroInqueritoDelegacia']\n",
    "        except KeyError:\n",
    "            data['numeroInqueritoDelegacia'] = None\n",
    "        \n",
    "        try:\n",
    "            data['nomeDelegacia'] = dados_processo['nomeDelegacia']\n",
    "        except KeyError:\n",
    "            data['nomeDelegacia'] = None\n",
    "        \n",
    "        try:\n",
    "            data['assuntos'] = lista_para_string(dados_processo['assuntos'], 'assunto')\n",
    "        except KeyError:\n",
    "            data['assuntos'] = None\n",
    "        except Exception as e:\n",
    "            #print(f\"Erro ao processar assuntos: {e}\")\n",
    "            data['assuntos'] = None\n",
    "        \n",
    "        try:\n",
    "            data['partes1'] = lista_para_string(dados_processo['partes'], 'nome')\n",
    "        except KeyError:\n",
    "            data['partes1'] = None\n",
    "        except Exception as e:\n",
    "            #print(f\"Erro ao processar partes1: {e}\")\n",
    "            data['partes1'] = None\n",
    "        \n",
    "        try:\n",
    "            data['participacao1'] = lista_para_string(dados_processo['partes'], 'participacao')\n",
    "        except KeyError:\n",
    "            data['participacao1'] = None\n",
    "        except Exception as e:\n",
    "            #print(f\"Erro ao processar participacao1: {e}\")\n",
    "            data['participacao1'] = None\n",
    "        \n",
    "        try:\n",
    "            data['ultimoMovimentos'] = lista_para_string(dados_processo['movimentos'], 'nome')\n",
    "        except KeyError:\n",
    "            data['ultimoMovimentos'] = None\n",
    "        except Exception as e:\n",
    "            #print(f\"Erro ao processar ultimoMovimentos: {e}\")\n",
    "            data['ultimoMovimentos'] = None\n",
    "        \n",
    "        try:\n",
    "            data['dataUltimoMovimento'] = lista_para_string(dados_processo['movimentos'], 'data')\n",
    "        except KeyError:\n",
    "            data['dataUltimoMovimento'] = None\n",
    "        except Exception as e:\n",
    "            #print(f\"Erro ao processar dataUltimoMovimento: {e}\")\n",
    "            data['dataUltimoMovimento'] = None\n",
    "        \n",
    "        # Tenta adicionar anexos e outras informações, caso existam\n",
    "        try:\n",
    "            data['anexos'] = lista_para_string(dados_processo['anexos'], 'tipo')\n",
    "        except KeyError:\n",
    "            data['anexos'] = None\n",
    "        except Exception as e:\n",
    "            #print(f\"Erro ao processar anexos: {e}\")\n",
    "            data['anexos'] = None\n",
    "        \n",
    "        try:\n",
    "            data['anonimo1'] = lista_para_string(dados_processo['partes'], 'anonimo')\n",
    "        except KeyError:\n",
    "            data['anonimo1'] = None\n",
    "        except Exception as e:\n",
    "            #print(f\"Erro ao processar anonimo1: {e}\")\n",
    "            data['anonimo1'] = None\n",
    "        \n",
    "        try:\n",
    "            data['desconhecido1'] = lista_para_string(dados_processo['partes'], 'desconhecido')\n",
    "        except KeyError:\n",
    "            data['desconhecido1'] = None\n",
    "        except Exception as e:\n",
    "            #print(f\"Erro ao processar desconhecido1: {e}\")\n",
    "            data['desconhecido1'] = None\n",
    "        \n",
    "        # URL final do processo\n",
    "        data['url'] = link\n",
    "\n",
    "        return data\n",
    "\n",
    "    except Exception as e:\n",
    "        #print(f\"Erro ao extrair dados do processo: {e}\")\n",
    "        return None\n",
    "    finally:\n",
    "        driver.quit()  # Certifica-se de fechar o driver depois\n",
    "\n",
    "\n",
    "#####################\n",
    "### link raspagem ###\n",
    "#####################\n",
    "link = [x for x in dataset_apenas_trafico['id_link']]\n",
    "\n",
    "def main():\n",
    "    # Inicializar a lista para armazenar os dados dos processos\n",
    "    dados_processos = []\n",
    "\n",
    "    # Usando ThreadPoolExecutor para paralelizar a extração de dados dos processos\n",
    "    with concurrent.futures.ThreadPoolExecutor(max_workers=50) as executor:\n",
    "        future_to_link = {executor.submit(extrair_dados_processo, link): link for link in tqdm(dataset_apenas_trafico['id_link'], desc=\"Processando links\")}\n",
    "        for future in tqdm(concurrent.futures.as_completed(future_to_link), total=len(future_to_link), desc=\"Extraindo dados\"):\n",
    "            link = future_to_link[future]\n",
    "            try:\n",
    "                data = future.result()\n",
    "                dados_processos.append(data)\n",
    "            except Exception as e:\n",
    "                print(f\"Erro ao processar o link {link}: {e}\")\n",
    "\n",
    "            # Exibir os dados extraídos\n",
    "            df = pd.DataFrame(dados_processos)\n",
    "            df.to_csv(\"metadados_mpsp_processos_trafico.csv\", encoding=\"cp1252\", index=False)\n",
    "\n",
    "if __name__ == \"__main__\":\n",
    "    main()\n"
   ]
  },
  {
   "cell_type": "code",
   "execution_count": null,
   "metadata": {},
   "outputs": [],
   "source": [
    "pd.read_csv(\"metadados_mpsp_processos_trafico.csv\", encoding=\"cp1252\")"
   ]
  },
  {
   "cell_type": "code",
   "execution_count": null,
   "metadata": {},
   "outputs": [],
   "source": []
  },
  {
   "cell_type": "code",
   "execution_count": null,
   "metadata": {},
   "outputs": [],
   "source": [
    "# # pagina atual\n",
    "# pagina = 1\n",
    "\n",
    "# # dados extraídos\n",
    "# dados = []\n",
    "# id_link = []\n",
    "# url_erro = []\n",
    "\n",
    "# # Inicializar o driver\n",
    "# driver = webdriver.Chrome()\n",
    "\n",
    "# # Loop\n",
    "# for pagina in tqdm(range(1, texto_paginacao + 1)):\n",
    "#     try:\n",
    "#         # Acessar URL - Inquéritos Policiais - Criminal\n",
    "#         url = f\"https://wapiext.mpsp.mp.br/consultaprocessualapispa/consultas/procedimentos-por-classe/?idClasse=705&CurrentPage={pagina}&PageSize=100\"\n",
    "#         #print(url)\n",
    "#         driver.get(url)\n",
    "\n",
    "#         # time\n",
    "#         time.sleep(0.5)\n",
    "\n",
    "#         # pega código fonte da página\n",
    "#         page_content = driver.page_source\n",
    "\n",
    "#         # Extrair o JSON do page_source usando regex\n",
    "#         json_data = re.search(r'(\\{.*\\})', page_content).group(1)\n",
    "#         dados_json = json.loads(json_data)\n",
    "#         #print(dados_json)\n",
    "        \n",
    "#         # Formação da base de dados\n",
    "#         for item in dados_json['procedimentos']:\n",
    "#             idProcedimento = item[\"idProcedimento\"]\n",
    "#             numeroMP = item[\"numeroMP\"].lower()\n",
    "#             classe = item[\"classe\"].lower()\n",
    "#             unidadeAdministrativa = item[\"unidadeAdministrativa\"].lower()\n",
    "#             municipio = item[\"unidadeAdministrativa\"].lower().replace('promotoria de justiça de ', '')\n",
    "#             area = item[\"area\"].lower()\n",
    "#             assuntos = \", \".join([assunto.strip().lower() for assunto in item[\"assuntos\"][0][\"assunto\"]])\n",
    "#             trafico = assuntos.find(\"tráfico\")\n",
    "#             dados.append([idProcedimento, numeroMP, classe, unidadeAdministrativa, municipio, area, assuntos])\n",
    "#             id_link.append(\"https://sis.mpsp.mp.br/consultaprocessual/inqueritos-policiais/procedimento/\" + idProcedimento)\n",
    "\n",
    "#         pagina+=1\n",
    "        \n",
    "#     except Exception as e:\n",
    "#         print(f\"Erro ao buscar texto: {e}\")\n",
    "#         # salva url com erro\n",
    "#         url_erro.append(url)\n",
    "#         pass\n",
    "\n",
    "# # Fechar navegador\n",
    "# driver.quit()\n",
    "\n",
    "# # cria dataframe\n",
    "# final = pd.DataFrame(dados, columns=[\"idProcedimento\", \"numeroMP\", \"classe\", \"unidadeAdministrativa\", \"municipio\", \"area\", \"assuntos\"])\n",
    "\n",
    "# # cria coluna classificação tráfico de drogas\n",
    "# # Chamando a função\n",
    "# final['trafico_validacao'] = check_trafico_de_drogas(final)\n",
    "\n",
    "# # salva csv\n",
    "# final.to_csv(\"inqueritos_policiais_criminal.csv\", encoding=\"cp1252\", index=False)"
   ]
  },
  {
   "cell_type": "code",
   "execution_count": null,
   "metadata": {},
   "outputs": [],
   "source": [
    "# def extracao_pin_processo_mp(numero):\n",
    "#     # webDriver\n",
    "#     driver = webdriver.Chrome(service=Service(ChromeDriverManager().install()))  # Garantir que o ChromeDriver seja instalado\n",
    "#     try:\n",
    "#         # formata numero processo\n",
    "#         num_limpo = re.sub(r'[^\\w\\s]', '', numero)\n",
    "\n",
    "#         # gera url\n",
    "#         url = f\"https://wapiext.mpsp.mp.br/consultaprocessualapispa/procedimentos/numero-mp/{num_limpo}/id?CenarioDeUso=0\"\n",
    "#         print(url)\n",
    "#         try:        \n",
    "#             # acessa url\n",
    "#             driver.get(url)\n",
    "\n",
    "#             # Aguardar um pouco para garantir que a página carregue completamente\n",
    "#             time.sleep(1)\n",
    "\n",
    "#             # Pega o código fonte da página\n",
    "#             page_content = driver.page_source\n",
    "            \n",
    "#             # Extrai o JSON do page_source usando regex\n",
    "#             json_data_match = re.search(r'([a-z0-9-]{36})', page_content)\n",
    "#             if json_data_match:\n",
    "#                 uuid = json_data_match.group(1)\n",
    "#             else:\n",
    "#                 raise ValueError(\"JSON data not found in the page source\")\n",
    "            \n",
    "#             # verifica se existe o pin\n",
    "#             if uuid:\n",
    "#                 # retorna o link para raspagem json()\n",
    "#                 return f\"https://wapiext.mpsp.mp.br/consultaprocessualapispa/procedimentos/{uuid}\"\n",
    "#             else:\n",
    "#                 print(\"PIN não encontrado no conteúdo.\")\n",
    "#                 pass\n",
    "#         except Exception as e:\n",
    "#             print(f\"Erro ao buscar PIN do processo {numero}: {e}\")\n",
    "#             pass\n",
    "        \n",
    "#     except Exception as e:\n",
    "#         print(f\"Erro ao buscar página {url}: {e}\")\n",
    "#         pass\n",
    "\n",
    "#     finally:\n",
    "#         # fecha o WebDriver\n",
    "#         driver.quit()\n",
    "\n",
    "# # Executa processamento paralelo\n",
    "# def extracao_pin_processo_mp_parallel(numeros_processos):\n",
    "#     with ThreadPoolExecutor(max_workers=5) as executor:\n",
    "#         results = list(tqdm(executor.map(extracao_pin_processo_mp, numeros_processos), total=len(numeros_processos), desc=\"Processando processos\"))\n",
    "#     return results\n",
    "\n",
    "# # aplicando as funções paralelas\n",
    "# numeros_processos = list(dataset_apenas_trafico['numeroMP'][0:20])\n",
    "# links = extracao_pin_processo_mp_parallel(numeros_processos)\n",
    "\n",
    "# with open(\"links_raspagem.json\", \"w\") as f:\n",
    "#     json.dump(links, f)\n",
    "\n",
    "# print(links)"
   ]
  }
 ],
 "metadata": {
  "kernelspec": {
   "display_name": "Python 3",
   "language": "python",
   "name": "python3"
  },
  "language_info": {
   "codemirror_mode": {
    "name": "ipython",
    "version": 3
   },
   "file_extension": ".py",
   "mimetype": "text/x-python",
   "name": "python",
   "nbconvert_exporter": "python",
   "pygments_lexer": "ipython3",
   "version": "3.12.4"
  }
 },
 "nbformat": 4,
 "nbformat_minor": 2
}
